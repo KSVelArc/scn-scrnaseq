{
 "cells": [
  {
   "cell_type": "markdown",
   "id": "a6bcef52-eb58-4660-b8e7-924064a1a820",
   "metadata": {},
   "source": [
    "# Spatiotemporal single-cell analysis of gene expression in the mouse suprachiasmatic nucleus\n",
    "Shao’ang Wen, Danyi Ma, Meng Zhao, Lucheng Xie, Qingqin Wu, Lingfeng Gou, Chuanzhen Zhu, Yuqi Fan, Haifang Wang, and Jun Yan\n",
    "\n",
    "Nature Neuroscience | VOL 23 | MArCh 2020 | 456–467 | https://doi.org/10.1038/s41593-020-0586-x"
   ]
  },
  {
   "cell_type": "markdown",
   "id": "391a3984-cd92-466d-ba9a-48fa2d84d1fe",
   "metadata": {},
   "source": [
    "---"
   ]
  },
  {
   "cell_type": "markdown",
   "id": "3116ebdb-4002-4733-bd3a-9e4e5a6f497d",
   "metadata": {},
   "source": [
    "The Suprachiasmatic nucleus (SCN) is the circadian pacemaker in mammals. It is located in the ventral hypothalamus and synchronizes by sunlight. Our understanding of the cell types active in the SCN and their function is limited. Single-cell RNA-sequencing (scRNAseq) techniques can be used to answer questions about the identity of these cell types and their role in circadian expression.  \n",
    "\n",
    "This study annotated 8 main cell types in the SCN of mice. Five of those were identified as neuron cells, each type showing different gene markers, spatial distribution, circadian oscillation, and response to light."
   ]
  },
  {
   "cell_type": "markdown",
   "id": "b56d1d69-5097-4cd4-8c37-7434de82a318",
   "metadata": {},
   "source": [
    "__Questions:__\n",
    "- Are the cells expressing neuropeptides in the SCN part of a specific subtype?\n",
    "- What is the profile of neuron subtypes in the SCN?\n",
    "- How are the neuron subtypes distributed in the SCN?\n",
    "- How do the neuron subtypes in the SCN associated with circadian oscillations?"
   ]
  },
  {
   "cell_type": "markdown",
   "id": "ff128924-7372-4971-9fcf-a92c6203f671",
   "metadata": {},
   "source": [
    "__SCN neuron subtypes:__\n",
    "- Circadian overexpression: Avp+/Nms+, Vip+/Nms+, Cck+/C1ql3+\n",
    "- Circadian underexpressed: Grp+/Vip+, Cck+/Bdnf+"
   ]
  },
  {
   "cell_type": "markdown",
   "id": "c29a8826-8180-4f60-a230-b446ec84fdc4",
   "metadata": {},
   "source": [
    "__Circadian gene expression of cell types in and around the SCN__\n",
    "\n",
    "Sequenced single-cell transcriptomes: 62,083 at 12 circadian time points\n",
    "- Cell clusters: 16\n",
    "- Cell types: astrocytes (Agt), endothelial cells (Itm2a), ependymal cells (Tmem212), microglia (Hexb), neurons (Celf4), NG2 cells (Pdgfra), oligodendrocytes (Plp1), tanycytes (Col23a1). \n",
    "  - Neurons, polydendrocytes (NG2 cells), oligodendrocytes\n",
    "  \n",
    "Mouse strain: C57BL/6\n",
    "\n",
    "Room environment: 20–22°C, 30–70% humidity, 12h light:dark cycle (LD) for 2 weeks, constant darkness (DD) for 2 days\n",
    "\n",
    "Single molecule fluorescence in situ hybridization (smFISH)\n",
    "\n",
    "Laser capture microdissection (LCM)"
   ]
  },
  {
   "cell_type": "markdown",
   "id": "4c022c6f-bb9e-43a0-b5d7-792c8a2c24ba",
   "metadata": {},
   "source": [
    "__Analysis__\n",
    "\n",
    "Sets:\n",
    "- Projection: 43,846 cells with 200-800 genes expressed.\n",
    "- Training: 16,004 cells (25.8%) with more than 800 genes expressed."
   ]
  },
  {
   "cell_type": "markdown",
   "id": "c5fa80b7-a17f-4ac1-a92c-836f163159d0",
   "metadata": {},
   "source": []
  },
  {
   "cell_type": "markdown",
   "id": "4e18fa29-a576-40ff-8051-043d3e6f1d97",
   "metadata": {},
   "source": [
    "JTK Cycle: Statistical software (Hughes et al. J. Biol. Rhythms 25, 372–380, 2010) used to test if a variable follows a significant day/night rhythm. The study classified genes as rhythmic genes in each cell type based on the JTKCycle10's Bonferroni’s adjusted, two-tailed P ≤ 0.05.\n",
    "\n",
    "Bmal1, Per2, Nr1d1 and Dbp"
   ]
  },
  {
   "cell_type": "code",
   "execution_count": null,
   "id": "7af9a76b-a8ad-45c7-8911-e9763f62c228",
   "metadata": {},
   "outputs": [],
   "source": []
  }
 ],
 "metadata": {
  "kernelspec": {
   "display_name": "Python 3 (ipykernel)",
   "language": "python",
   "name": "python3"
  },
  "language_info": {
   "codemirror_mode": {
    "name": "ipython",
    "version": 3
   },
   "file_extension": ".py",
   "mimetype": "text/x-python",
   "name": "python",
   "nbconvert_exporter": "python",
   "pygments_lexer": "ipython3",
   "version": "3.11.3"
  }
 },
 "nbformat": 4,
 "nbformat_minor": 5
}
