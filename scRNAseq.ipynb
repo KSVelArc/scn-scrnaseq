{
 "cells": [
  {
   "cell_type": "markdown",
   "id": "dddb5760-a7c2-499f-8560-5833294ec594",
   "metadata": {},
   "source": [
    "# Scanpy for single-cell RNA sequencing (scRNA-seq) data analysis"
   ]
  },
  {
   "cell_type": "markdown",
   "id": "34255245-8ee4-4836-a33c-d4cdf367e178",
   "metadata": {},
   "source": [
    "---"
   ]
  },
  {
   "cell_type": "markdown",
   "id": "99007d0a-6472-4207-9f9a-aeb44902b8ff",
   "metadata": {},
   "source": [
    "## Sequencing"
   ]
  },
  {
   "cell_type": "markdown",
   "id": "33f04ad0-eca0-4f2b-8373-110b1698f94c",
   "metadata": {},
   "source": [
    "__RNA-seq__ (RNA sequencing) is a transcriptomics method that involves the high-throughput sequencing of RNA molecules in a sample. It can be used to study gene expression, alternative splicing, differential expression between case/control samples, etc. \n",
    "\n",
    "Bulk RNA-seq targets the transcriptome of all the RNA in a sample and can only measure the average gene expression among the heterogeneous population of cell types in a tissue ([Gondane & Itkonen, 2023](https://doi.org/10.3390/cimb45030120); [Marguerat & Bähler, 2010](https://doi.org/10.1007/s00018-009-0180-6))."
   ]
  },
  {
   "cell_type": "markdown",
   "id": "18d96784-67a7-4e94-bf54-b4ec6928a9c5",
   "metadata": {},
   "source": [
    "Single-cell RNA sequencing (__scRNA-seq__) allows to analyze the gene expression profile of individual cells within a sample ([Jovic et al., 2022](https://doi.org/10.1002/ctm2.694); [Hong et al., 2020](https://doi.org/10.1186/s13045-020-01005-x); [Nature Methods, 2014](https://doi.org/10.1038/nmeth.2801); [Tang et al., 2009](https://doi.org/10.1038/nmeth.1315)).\n",
    "\n",
    "Procedure: \n",
    "1. Cell Isolation/Capture. \n",
    "  - Flow cytometry (e.g., fluorescence activated cell sorting, FACS). Cells in a suspension are stained (membrane, cytoplasm, nucleus). FACS machine, laser beam, flow cytometer sort electronics. Cell culture and analysis.\n",
    "  - Microfluidics (array-based and droplet-based). Cells from a suspension are isolated by running barcoded beads and the cells through a microfluidic chip, where each cell is combined with a barcoded bead in a droplet/chamber. (droplets or wells).\n",
    "2. Library Preparation. Cell lysis for RNA extraction. Reverse transcription into complementary DNA (cDNA) for amplification.  The addition of unique molecular identifiers (UMIs) to each RNA helps to mitigate issues related to PCR amplification biases.\n",
    "3. Sequencing: The prepared library is sequenced using high-throughput sequencing technologies, generating short nucleotide sequences (reads) that correspond to the cDNA fragments."
   ]
  },
  {
   "cell_type": "markdown",
   "id": "9166aa0c-af80-435b-a8ea-17e9ea53624b",
   "metadata": {},
   "source": [
    "![10xLibrary](images/10xgenomics_library.png)\\\n",
    "Source: [10xgenomics](https://kb.10xgenomics.com/hc/en-us/articles/360000939852-What-is-the-difference-between-Single-Cell-3-and-5-Gene-Expression-libraries-)"
   ]
  },
  {
   "cell_type": "markdown",
   "id": "7f6fe142-eb44-46c4-b7dc-a6fef85b86e7",
   "metadata": {},
   "source": [
    "Common scRNA-seq protocols\\\n",
    "![Methods](images/10.1146_annurev-biodatasci-080917-013452.jpg)\\\n",
    "Source: [Chen et al., 2018. Annual Review of Biomedical Data Science, 1, 29-51.](https://doi.org/10.1146/annurev-biodatasci-080917-013452)"
   ]
  },
  {
   "cell_type": "markdown",
   "id": "73f2ba5a-6cfa-47c4-8059-373b97b0a3e9",
   "metadata": {},
   "source": [
    "## Data Analysis"
   ]
  },
  {
   "cell_type": "markdown",
   "id": "4ad25c50-2f44-4b47-bfc6-f045f9d3d1b2",
   "metadata": {},
   "source": [
    "The bioinformatics analysis of scRNA-seq data typically involves quantifying gene expression levels and performing downstream analyses such as clustering, dimensionality reduction, and identification of differentially expressed genes.\n",
    "\n",
    "Cell types are annotated based on gene expression profiles. In some cases, spatial transcriptomics are used to map gene expression in tissues. \n",
    "\n",
    "Many tools are available for the analysis of scRNAseq data. [Ref: Table S1](https://doi.org/10.1002/ctm2.694)."
   ]
  },
  {
   "cell_type": "markdown",
   "id": "babc020a-4e64-45cb-b2e1-d3a5a05b5e95",
   "metadata": {},
   "source": [
    "### Scanpy"
   ]
  },
  {
   "cell_type": "markdown",
   "id": "42bace63-2c89-46c7-96e3-14b63e918187",
   "metadata": {},
   "source": [
    "Scanpy relies on an __AnnData__ class designed to store and manipulate high-dimensional, annotated single-cell genomics data.\n",
    "\n",
    "Components:\n",
    "- __Data Matrix__: A two-dimensional matrix, where rows represent cells and columns represent features (e.g., genes), containing  raw gene expression counts, normalized expression values, or any other numeric values associated with each cell and feature. `adata.X`\n",
    "- __Observations__: The first of two main attributes for storing metadata is obs (observations), typically used to store information about individual cells (e.g., cell annotations, sample information, batch information). `adata.obs`\n",
    "- __Variables__: The second main attribute for storing metadata is var (variables), used to store information about features (e.g., gene names, gene annotations). `adata.var`\n",
    "- __Layers__: Additional matrices associated with the main data matrix. Commonly used layers include raw counts, normalized counts, and scaled data.\n",
    "- __Uns__: The uns attribute (unstructured) is a dictionary intended for storing any unstructured data. This can be useful for storing additional information that doesn't fit into the structured obs and var annotations.\n"
   ]
  },
  {
   "cell_type": "markdown",
   "id": "3a2c12e7-e410-4016-8412-57b53ceaf3df",
   "metadata": {},
   "source": [
    "![AnnData](images/scanpydocs_anndata.svg)\\\n",
    "Source: [Scanpy Documentation](https://scanpy.readthedocs.io/en/stable/usage-principles.html)"
   ]
  },
  {
   "cell_type": "markdown",
   "id": "11ec40a6-e2b1-4566-80d3-79fd2da4eac0",
   "metadata": {},
   "source": [
    "#### Input Data"
   ]
  },
  {
   "cell_type": "markdown",
   "id": "31816a51-d5d6-4bbd-bdf9-e8519e3b73be",
   "metadata": {},
   "source": [
    "Expression matrix"
   ]
  },
  {
   "cell_type": "markdown",
   "id": "803beb36-9053-43fa-b89e-08f1f81cbc24",
   "metadata": {},
   "source": [
    "![Matrix](images/10.1016_j.jgg.2022.01.004.jpg)\\\n",
    "Source: [Wu et al., 2022. Journal of Genetics and Genomics, 49(9), 891-899](https://doi.org/10.1016/j.jgg.2022.01.004)"
   ]
  },
  {
   "cell_type": "markdown",
   "id": "61fd0867-2ecf-40fe-8765-ce0637bdc199",
   "metadata": {},
   "source": [
    "#### Cell Quality Control\n",
    "\n",
    "Damaged cells:\n",
    "- High proportion of mitochondrial and ribosomal gene expression\n",
    "  - A commonly used threshold is removing cells with >20% mitochondrial gene count\n",
    "- Low UMI and gene count\n",
    "Doublets:\n",
    "- High UMI and gene count"
   ]
  },
  {
   "cell_type": "markdown",
   "id": "99beab23-6103-43cb-a098-7c551a329232",
   "metadata": {},
   "source": [
    "#### Normalization\n",
    "Remove technical variation associated with PCR, cell lysis efficiency, reverse transcription efficiency, stochastic molecular sampling during sequencing, to be able to measure true biological variation.\n",
    "\n",
    "- Divide by the total counts for that cell\n",
    "- Multiply by a scaling factor (e.g., 10,000)\n",
    "- Log transformation"
   ]
  },
  {
   "cell_type": "markdown",
   "id": "97d3625e-5c1a-4bd3-aaa4-ae1a407f30e1",
   "metadata": {},
   "source": [
    "#### Filter for Highly Variable Genes\n",
    "\n",
    "Select genes with a high cell-to-cell variation. Threshold typically at 2000 genes.\n"
   ]
  },
  {
   "cell_type": "markdown",
   "id": "ddff923a-24c7-4836-b0c8-2d18913651b7",
   "metadata": {},
   "source": [
    "#### Scaling\n",
    "\n",
    "Linear transformation of the data shifts the mean gene expression across cells to 0 and the variance to 1, avoiding bias from highly expressed genes."
   ]
  },
  {
   "cell_type": "markdown",
   "id": "a783e01d-6c03-4288-8a04-10c162cbc52f",
   "metadata": {},
   "source": [
    "![Matrix](images/10.1016_j.mam.2017.07.002.jpg)\\\n",
    "Source: [Andrews & Hemberg, (2018). Molecular aspects of medicine, 59, 114-122.](https://doi.org/10.1016/j.mam.2017.07.002)"
   ]
  },
  {
   "cell_type": "markdown",
   "id": "46e0ef9c-6bf4-4da8-94d8-8e275c748694",
   "metadata": {},
   "source": [
    "#### Principal Component Analysis (PCA)\n",
    "\n",
    "Linear dimensionality reduction\n",
    "- http://www.nlpca.org/pca_principal_component_analysis.html\n",
    "- https://stats.stackexchange.com/questions/2691/making-sense-of-principal-component-analysis-eigenvectors-eigenvalues\n",
    "\n",
    "Select the number of PCs based on the location of the \"elbow\" on a PCxSTD plot.\n",
    "\n",
    "Jackstraw plot for PCA significance.\n",
    "\n",
    "PC heatmaps: Cells x Genes with extreme values, ordered by PCA scores"
   ]
  },
  {
   "cell_type": "markdown",
   "id": "e7819409-63b8-4df2-9e96-bc5dec70641f",
   "metadata": {},
   "source": [
    "#### Clustering\n",
    "\n",
    "Group cells with similar expression profiles\n",
    "\n",
    "The number of clusters are selected based on the top PCs explaining the highest amount of variance and the resolution  \n",
    "\n",
    "- PCA \n",
    "- tSINE: preserves local structure in the data\n",
    "- UMAP: preserves both local and global structure\n",
    "\n"
   ]
  },
  {
   "cell_type": "markdown",
   "id": "91a0d1bb-a7f4-48f8-a4e6-01fa3785bc5e",
   "metadata": {},
   "source": [
    "#### Differentially Expressed Genes (DEG) Analysis\n",
    "- Measure the fraction of expression of each gene in each cluster\n",
    "  - Percentile 1: Fraction of cells expressed in the current cluster\n",
    "  - Percentile 2: Fraction of cells expressed in the complement clusters"
   ]
  },
  {
   "cell_type": "markdown",
   "id": "818ab215-ee18-4beb-8619-1e454e1a7a8d",
   "metadata": {},
   "source": [
    "#### Marker Identification\n",
    "\n"
   ]
  },
  {
   "cell_type": "markdown",
   "id": "68a8e337-70d5-41c3-8c62-9f7eebb414e0",
   "metadata": {},
   "source": [
    "#### Cluster Annotation\n",
    "Cell type identification is based on cluster marker genes from annotated reference databases (e.g., [PanglaoDB](https://panglaodb.se/))."
   ]
  },
  {
   "cell_type": "markdown",
   "id": "648d194c-e41d-4b05-96b7-218a70d4f6f8",
   "metadata": {},
   "source": [
    "#### Trajectory Inference Analysis\n",
    "- Transitions between cell identities\n",
    "- Branching differentiation processes\n",
    "- Trajectory inference methods interpret single‐cell data as a snapshot of a continuous process"
   ]
  },
  {
   "cell_type": "markdown",
   "id": "47da5d79-688d-4334-aca7-76f666cab1b8",
   "metadata": {},
   "source": []
  },
  {
   "cell_type": "markdown",
   "id": "1d4fe292-b5ab-40e0-b595-402c3eeaf652",
   "metadata": {},
   "source": []
  },
  {
   "cell_type": "markdown",
   "id": "fef18f91-49a2-482d-814c-4ba2144c2f37",
   "metadata": {},
   "source": [
    "Other tools:\n",
    "- Seurat\n",
    "  - Object: "
   ]
  },
  {
   "cell_type": "markdown",
   "id": "2641238a-d972-4da1-9077-19e077b9c57d",
   "metadata": {},
   "source": []
  }
 ],
 "metadata": {
  "kernelspec": {
   "display_name": "Python 3 (ipykernel)",
   "language": "python",
   "name": "python3"
  },
  "language_info": {
   "codemirror_mode": {
    "name": "ipython",
    "version": 3
   },
   "file_extension": ".py",
   "mimetype": "text/x-python",
   "name": "python",
   "nbconvert_exporter": "python",
   "pygments_lexer": "ipython3",
   "version": "3.11.3"
  }
 },
 "nbformat": 4,
 "nbformat_minor": 5
}
